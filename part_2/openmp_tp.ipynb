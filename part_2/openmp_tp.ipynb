{
 "cells": [
  {
   "cell_type": "markdown",
   "metadata": {},
   "source": [
    "# TP OpenMP - October 2022\n",
    "\n",
    "Florian Rascoussier\n",
    "\n",
    "Bastien Barbe\n",
    "\n",
    "Ce notebook constitue une étude comparative des méthodes de parallélisation CUDA sur GPU pour différentes applications.\n",
    "\n",
    "## Part 2 : Matrix-Vector operation\n",
    "\n",
    "Ce programme fait du calcul vectoriel sur des matrices et des vecteurs.\n",
    "### Compilation"
   ]
  },
  {
   "cell_type": "code",
   "execution_count": 1,
   "metadata": {},
   "outputs": [],
   "source": [
    "# script params\n",
    "EXEC: bool = True"
   ]
  },
  {
   "cell_type": "code",
   "execution_count": 7,
   "metadata": {},
   "outputs": [],
   "source": [
    "# create /bin if it does not exist\n",
    "!mkdir -p bin\n",
    "\n",
    "# compile the programs\n",
    "!nvcc -o bin/tp_cuda_part_2_vector_sequential tp_cuda_part_2_vector_sequential.cu -O3\n",
    "!nvcc -o bin/tp_cuda_part_2_vector_1_thread_per_1_block tp_cuda_part_2_vector_1_thread_per_1_block.cu -O3\n",
    "!nvcc -o bin/tp_cuda_part_2_vector_multithread_atomics tp_cuda_part_2_vector_multithread_atomics.cu -O3\n",
    "!nvcc -o bin/tp_cuda_part_2_vector_multithread_shared_atomics tp_cuda_part_2_vector_multithread_shared_atomics.cu -O3 -g\n",
    "\n",
    "# cuda-memcheck ./bin/tp_cuda_part_1_pi_basic -T 1000 -N 100000"
   ]
  },
  {
   "cell_type": "markdown",
   "metadata": {},
   "source": [
    "Testing with S=31, out of memory as it requires more than 2 Go of device memory"
   ]
  },
  {
   "cell_type": "markdown",
   "metadata": {},
   "source": [
    "### Performance evaluation"
   ]
  },
  {
   "cell_type": "code",
   "execution_count": 8,
   "metadata": {},
   "outputs": [
    {
     "name": "stdout",
     "output_type": "stream",
     "text": [
      "S values: [8, 128, 32768, 524288, 8388608, 134217728]\n"
     ]
    }
   ],
   "source": [
    "# global vars\n",
    "csv_result_file = \"stats.csv\"\n",
    "csv_headers = {\n",
    "    'version': str,\n",
    "    'S': int,\n",
    "    'T': int,\n",
    "    'runtime' : float\n",
    "}\n",
    "\n",
    "N_values = [2, 4, 8, 10, 12, 14]\n",
    "M_values = [1, 3, 7, 9, 11, 13]\n",
    "T_values = [1, 32, 64, 128, 256]\n",
    "\n",
    "S_values = []\n",
    "for i in range(len(N_values)):\n",
    "    S_sum = N_values[i] + M_values[i]\n",
    "    S_values.append(2**S_sum)\n",
    "print(\"S values:\", S_values)\n",
    "\n",
    "color_class = {\n",
    "    \"sequential\": \"purple\",\n",
    "    \"onethreadperblock\": \"red\",\n",
    "    \"multithread_atomics\": \"orange\",\n",
    "    \"multithread_shared\": \"blue\"\n",
    "}\n",
    "\n",
    "repeats = 10"
   ]
  },
  {
   "cell_type": "code",
   "execution_count": 10,
   "metadata": {},
   "outputs": [
    {
     "name": "stdout",
     "output_type": "stream",
     "text": [
      "Program executions\n",
      "Creating NEW CSV file (stats.csv)\n",
      " + Running programs (N: 2, M: 1) with T: 1\n",
      "**********\n",
      " + Running programs (N: 2, M: 1) with T: 32\n",
      "**********\n",
      " + Running programs (N: 2, M: 1) with T: 64\n",
      "*****"
     ]
    }
   ],
   "source": [
    "import os\n",
    "import subprocess\n",
    "\n",
    "def delete_old_csv_file():\n",
    "    try:\n",
    "        os.remove(csv_result_file)\n",
    "    except OSError:\n",
    "        pass\n",
    "\n",
    "def create_csv_file():\n",
    "    print(f\"Creating NEW CSV file ({csv_result_file})\")\n",
    "    f = open(csv_result_file, \"w\")\n",
    "    f.write(\",\".join(csv_headers.keys()) + \"\\n\")\n",
    "    f.close()\n",
    "\n",
    "# execute the programs\n",
    "def run_program(\n",
    "    program_filepath: str, N: int, M: int, T: int\n",
    "):\n",
    "    S: int = N + M\n",
    "    args = (program_filepath, \n",
    "        \"-N\", str(N), \n",
    "        \"-M\", str(M),\n",
    "        \"-S\", str(S),\n",
    "        \"-T\", str(T),\n",
    "    )\n",
    "    popen = subprocess.Popen(args, stdout=subprocess.PIPE)\n",
    "    popen.wait()\n",
    "\n",
    "print(\"Program executions\")\n",
    "def exec_instances():\n",
    "    for N in N_values:\n",
    "        for M in M_values:\n",
    "            for T in T_values:\n",
    "                print(f\" + Running programs (N: {N}, M: {M}) with T: {T}\")\n",
    "                for _ in range(repeats):\n",
    "                    run_program(\"bin/tp_cuda_part_2_vector_sequential\", N,M,T)\n",
    "                    run_program(\"bin/tp_cuda_part_2_vector_1_thread_per_1_block\", N,M,T)\n",
    "                    run_program(\"bin/tp_cuda_part_2_vector_multithread_atomics\", N,M,T)\n",
    "                    run_program(\"bin/tp_cuda_part_2_vector_multithread_shared_atomics\", N,M,T)\n",
    "                    print(\"*\", end = '')\n",
    "                print()\n",
    "\n",
    "if EXEC:\n",
    "    delete_old_csv_file()\n",
    "    create_csv_file()\n",
    "    exec_instances()\n",
    "else: \n",
    "    print(f\"WARN: EXEC = {EXEC}. No C++ program execution.\")\n",
    "\n"
   ]
  },
  {
   "cell_type": "markdown",
   "metadata": {},
   "source": [
    "### Performance analysis"
   ]
  },
  {
   "cell_type": "code",
   "execution_count": null,
   "metadata": {},
   "outputs": [
    {
     "ename": "ModuleNotFoundError",
     "evalue": "No module named 'seaborn'",
     "output_type": "error",
     "traceback": [
      "\u001b[0;31m---------------------------------------------------------------------------\u001b[0m",
      "\u001b[0;31mModuleNotFoundError\u001b[0m                       Traceback (most recent call last)",
      "\u001b[0;32m<ipython-input-5-ed1022915205>\u001b[0m in \u001b[0;36m<module>\u001b[0;34m()\u001b[0m\n\u001b[1;32m      5\u001b[0m \u001b[0;32mfrom\u001b[0m \u001b[0mnumpy\u001b[0m \u001b[0;32mimport\u001b[0m \u001b[0mgenfromtxt\u001b[0m\u001b[0;34m\u001b[0m\u001b[0;34m\u001b[0m\u001b[0m\n\u001b[1;32m      6\u001b[0m \u001b[0;32mimport\u001b[0m \u001b[0mpandas\u001b[0m \u001b[0;32mas\u001b[0m \u001b[0mpd\u001b[0m\u001b[0;34m\u001b[0m\u001b[0;34m\u001b[0m\u001b[0m\n\u001b[0;32m----> 7\u001b[0;31m \u001b[0;32mimport\u001b[0m \u001b[0mseaborn\u001b[0m \u001b[0;32mas\u001b[0m \u001b[0msns\u001b[0m\u001b[0;34m\u001b[0m\u001b[0;34m\u001b[0m\u001b[0m\n\u001b[0m\u001b[1;32m      8\u001b[0m \u001b[0;34m\u001b[0m\u001b[0m\n\u001b[1;32m      9\u001b[0m \u001b[0;32mimport\u001b[0m \u001b[0mwarnings\u001b[0m\u001b[0;34m\u001b[0m\u001b[0;34m\u001b[0m\u001b[0m\n",
      "\u001b[0;31mModuleNotFoundError\u001b[0m: No module named 'seaborn'"
     ]
    }
   ],
   "source": [
    "# superposed big graph\n",
    "import matplotlib.pyplot as plt\n",
    "import numpy as np\n",
    "from IPython.display import display\n",
    "from numpy import genfromtxt\n",
    "import pandas as pd\n",
    "import seaborn as sns\n",
    "\n",
    "sns.set()\n",
    "\n",
    "\n",
    "df = pd.read_csv(\n",
    "    csv_result_file,\n",
    "    header=0, # line number of header\n",
    "    dtype=csv_headers\n",
    ")\n",
    "display(df.head(10))\n",
    "\n",
    "# filter out 0 runtime values\n",
    "df = df[df.runtime > 0]\n",
    "\n",
    "\n",
    "\n",
    "# display the graph\n",
    "def display_graph(df: pd.DataFrame):\n",
    "    COLUMNS = 2\n",
    "    ROWS = 2\n",
    "\n",
    "    fig, ax = plt.subplots(COLUMNS, ROWS, figsize=(18,16))\n",
    "    fig.suptitle(f\"Superposed Graphs of Matrix-Vector operations\")\n",
    "\n",
    "    for i in range(ROWS):\n",
    "        for j in range(COLUMNS):\n",
    "            # print version graph data\n",
    "            graph_version = list(color_class.keys())[i*COLUMNS + j]\n",
    "            df_plot_0 = df[df['version'] == graph_version]\n",
    "\n",
    "            g0.set(title=graph_version)\n",
    "            g0 = sns.lineplot(\n",
    "                ax=ax[i][j],\n",
    "                data=df_plot_0, \n",
    "                x=\"T\",\n",
    "                y=\"runtime\", \n",
    "                hue=\"S\",\n",
    "                palette=color_class,\n",
    "                style=\"version\",\n",
    "            )\n",
    "            g0.set(yscale=\"log\")\n",
    "            g0.set(xlabel=\"Matrix dimensions S=2^(N+M)\", ylabel=\"runtime (s)\")\n",
    "            g00 = sns.scatterplot(\n",
    "                ax=ax,\n",
    "                data=df_plot_0, \n",
    "                x=\"S\",\n",
    "                y=\"runtime\", \n",
    "                hue=\"version\",\n",
    "                palette=color_class,\n",
    "                legend=False,\n",
    "            )\n",
    "            g00.set(yscale=\"log\")\n",
    "\n",
    "    # display the graphs\n",
    "    plt.legend()\n",
    "    plt.show()\n",
    "\n",
    "\n",
    "display_graph(df)"
   ]
  },
  {
   "cell_type": "code",
   "execution_count": null,
   "metadata": {},
   "outputs": [],
   "source": [
    "# superposed big graph\n",
    "import matplotlib.pyplot as plt\n",
    "import numpy as np\n",
    "from IPython.display import display\n",
    "from numpy import genfromtxt\n",
    "import itertools\n",
    "import pandas as pd\n",
    "import seaborn as sns\n",
    "\n",
    "import warnings\n",
    "warnings.filterwarnings('ignore')\n",
    "\n",
    "sns.set()\n",
    "\n",
    "\n",
    "df = pd.read_csv(\n",
    "    csv_result_file,\n",
    "    header=0, # line number of header\n",
    "    dtype=csv_headers\n",
    ")\n",
    "display(df.head(10))\n",
    "\n",
    "# create palette for each version\n",
    "color_versions = {\n",
    "    \"critical\": \"red\",\n",
    "    \"atomic\": \"orange\",\n",
    "    \"reduction\": \"green\",\n",
    "    \"nred\": \"blue\",\n",
    "}\n",
    "\n",
    "\n",
    "\n",
    "# display graphs\n",
    "fig, ax = plt.subplots(figsize=(18,16))\n",
    "fig.suptitle(\"Superposed Graphs of custom matrix computing, for different parallism techniques\")\n",
    "\n",
    "for i in range(0, len(color_versions.keys())):\n",
    "    # print version graph data\n",
    "    graph_version = list(color_versions.keys())[i]\n",
    "    df_plot_0 = df[df['version'] == graph_version]\n",
    "\n",
    "    g0 = sns.lineplot(\n",
    "        ax=ax,\n",
    "        data=df_plot_0, \n",
    "        x=\"T\",\n",
    "        y=\"runtime\", \n",
    "        hue=\"version\",\n",
    "        palette=color_versions,\n",
    "        style=\"version\",\n",
    "    )\n",
    "    g0.set(xscale=\"log\")\n",
    "    g0.set(yscale=\"log\")\n",
    "    g0.set(xlabel=\"number of threads\", ylabel=\"runtime (s)\")\n",
    "    g00 = sns.scatterplot(\n",
    "        ax=ax,\n",
    "        data=df_plot_0, \n",
    "        x=\"T\",\n",
    "        y=\"runtime\", \n",
    "        hue=\"version\",\n",
    "        palette=color_versions,\n",
    "        legend=False,\n",
    "    )\n",
    "    g00.set(xscale=\"log\")\n",
    "    g00.set(yscale=\"log\")\n",
    "\n",
    "\n",
    "plt.legend()\n",
    "plt.show()"
   ]
  },
  {
   "cell_type": "markdown",
   "metadata": {},
   "source": [
    "### Discussion"
   ]
  }
 ],
 "metadata": {
  "kernelspec": {
   "display_name": "Python 3.10.6 ('py310omp')",
   "language": "python",
   "name": "python3"
  },
  "language_info": {
   "codemirror_mode": {
    "name": "ipython",
    "version": 3
   },
   "file_extension": ".py",
   "mimetype": "text/x-python",
   "name": "python",
   "nbconvert_exporter": "python",
   "pygments_lexer": "ipython3",
   "version": "3.10.6"
  },
  "orig_nbformat": 4,
  "vscode": {
   "interpreter": {
    "hash": "326e768ba90daaeab003b865bf168ec19ff1d317a5669a32ab13e56afd7e3f98"
   }
  }
 },
 "nbformat": 4,
 "nbformat_minor": 2
}
