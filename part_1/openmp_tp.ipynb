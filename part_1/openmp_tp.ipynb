{
 "cells": [
  {
   "cell_type": "markdown",
   "metadata": {},
   "source": [
    "# TP OpenMP - October 2022\n",
    "\n",
    "Florian Rascoussier\n",
    "\n",
    "Bastien Barbe\n",
    "\n",
    "Ce notebook constitue une étude comparative des méthodes de parallélisation CUDA sur GPU pour différentes applications.\n",
    "\n",
    "## Part 1 : Pi\n",
    "\n",
    "Ce programme calcule la valeur de pi à la précision renseignée par l'utilisateur.\n",
    "\n",
    "### Compilation"
   ]
  },
  {
   "cell_type": "code",
   "execution_count": 9,
   "metadata": {},
   "outputs": [],
   "source": [
    "# script params\n",
    "EXEC: bool = True"
   ]
  },
  {
   "cell_type": "code",
   "execution_count": 10,
   "metadata": {},
   "outputs": [
    {
     "name": "stdout",
     "output_type": "stream",
     "text": [
      "/bin/bash: line 1: nvcc: command not found\n",
      "/bin/bash: line 1: nvcc: command not found\n",
      "/bin/bash: line 1: nvcc: command not found\n",
      "/bin/bash: line 1: nvcc: command not found\n"
     ]
    }
   ],
   "source": [
    "# create /bin if it does not exist\n",
    "!mkdir -p bin\n",
    "\n",
    "# compile the programs\n",
    "!nvcc -o bin/tp_cuda_part_1_pi_multiblock_1_threadperblock tp_cuda_part_1_pi_multiblock_1_threadperblock.cu -O3\n",
    "!nvcc -o bin/tp_cuda_part_1_pi_multithread tp_cuda_part_1_pi_multithread.cu -O3\n",
    "!nvcc -o bin/tp_cuda_part_1_pi_multithread_shared tp_cuda_part_1_pi_multithread_shared.cu -O3\n",
    "!nvcc -o bin/tp_cuda_part_1_pi_multithread_full_reduction tp_cuda_part_1_pi_multithread_full_reduction.cu -O3 -g\n",
    "\n",
    "# cuda-memcheck ./bin/tp_cuda_part_1_pi_basic -T 1000 -N 100000"
   ]
  },
  {
   "cell_type": "markdown",
   "metadata": {},
   "source": [
    "### Performance evaluation"
   ]
  },
  {
   "cell_type": "code",
   "execution_count": 7,
   "metadata": {},
   "outputs": [],
   "source": [
    "# global vars\n",
    "csv_result_file = \"stats.csv\"\n",
    "csv_headers = {\n",
    "    'version': str,\n",
    "    'B': int,\n",
    "    'T': int,\n",
    "    'N': int,\n",
    "    'runtime' : float\n",
    "}\n",
    "\n",
    "B_values = [1, 32, 64, 128, 256]\n",
    "N_values = [100, 1000, 10000, 100000, 1000000]\n",
    "T_values = [1, 32, 64, 128, 256]\n",
    "\n",
    "# heatmap for N, B, T\n",
    "\n",
    "color_class = {\n",
    "    \"onethreadperblock\": \"red\",\n",
    "    \"multithread\": \"orange\",\n",
    "    \"multithread_shared\": \"blue\",\n",
    "    \"multithread_reduction\": \"green\"\n",
    "}\n",
    "\n",
    "repeats = 5"
   ]
  },
  {
   "cell_type": "code",
   "execution_count": 8,
   "metadata": {},
   "outputs": [
    {
     "name": "stdout",
     "output_type": "stream",
     "text": [
      "Program executions\n",
      "Creating NEW CSV file (stats.csv)\n",
      " + Running programs (B: 1, T: 1, N: 100)\n",
      "*****\n",
      " + Running programs (B: 1, T: 1, N: 1000)\n",
      "*****\n",
      " + Running programs (B: 1, T: 1, N: 10000)\n",
      "*****\n",
      " + Running programs (B: 1, T: 1, N: 100000)\n",
      "***"
     ]
    },
    {
     "ename": "KeyboardInterrupt",
     "evalue": "",
     "output_type": "error",
     "traceback": [
      "\u001b[0;31m---------------------------------------------------------------------------\u001b[0m",
      "\u001b[0;31mKeyboardInterrupt\u001b[0m                         Traceback (most recent call last)",
      "Cell \u001b[0;32mIn [8], line 45\u001b[0m\n\u001b[1;32m     43\u001b[0m     delete_old_csv_file()\n\u001b[1;32m     44\u001b[0m     create_csv_file()\n\u001b[0;32m---> 45\u001b[0m     exec_instances()\n\u001b[1;32m     46\u001b[0m \u001b[39melse\u001b[39;00m: \n\u001b[1;32m     47\u001b[0m     \u001b[39mprint\u001b[39m(\u001b[39mf\u001b[39m\u001b[39m\"\u001b[39m\u001b[39mWARN: EXEC = \u001b[39m\u001b[39m{\u001b[39;00mEXEC\u001b[39m}\u001b[39;00m\u001b[39m. No C++ program execution.\u001b[39m\u001b[39m\"\u001b[39m)\n",
      "Cell \u001b[0;32mIn [8], line 35\u001b[0m, in \u001b[0;36mexec_instances\u001b[0;34m()\u001b[0m\n\u001b[1;32m     33\u001b[0m \u001b[39mprint\u001b[39m(\u001b[39mf\u001b[39m\u001b[39m\"\u001b[39m\u001b[39m + Running programs (B: \u001b[39m\u001b[39m{\u001b[39;00mB\u001b[39m}\u001b[39;00m\u001b[39m, T: \u001b[39m\u001b[39m{\u001b[39;00mT\u001b[39m}\u001b[39;00m\u001b[39m, N: \u001b[39m\u001b[39m{\u001b[39;00mN\u001b[39m}\u001b[39;00m\u001b[39m)\u001b[39m\u001b[39m\"\u001b[39m)\n\u001b[1;32m     34\u001b[0m \u001b[39mfor\u001b[39;00m _ \u001b[39min\u001b[39;00m \u001b[39mrange\u001b[39m(repeats):\n\u001b[0;32m---> 35\u001b[0m     run_program(\u001b[39m\"\u001b[39;49m\u001b[39mbin/tp_cuda_part_1_pi_multiblock_1_threadperblock\u001b[39;49m\u001b[39m\"\u001b[39;49m, B,T,N)\n\u001b[1;32m     36\u001b[0m     run_program(\u001b[39m\"\u001b[39m\u001b[39mbin/tp_cuda_part_1_pi_multithread\u001b[39m\u001b[39m\"\u001b[39m, B,T,N)\n\u001b[1;32m     37\u001b[0m     run_program(\u001b[39m\"\u001b[39m\u001b[39mbin/tp_cuda_part_1_pi_multithread_shared\u001b[39m\u001b[39m\"\u001b[39m, B,T,N)\n",
      "Cell \u001b[0;32mIn [8], line 26\u001b[0m, in \u001b[0;36mrun_program\u001b[0;34m(program_filepath, B, T, N)\u001b[0m\n\u001b[1;32m     20\u001b[0m args \u001b[39m=\u001b[39m (program_filepath, \n\u001b[1;32m     21\u001b[0m     \u001b[39m\"\u001b[39m\u001b[39m-B\u001b[39m\u001b[39m\"\u001b[39m, \u001b[39mstr\u001b[39m(B), \n\u001b[1;32m     22\u001b[0m     \u001b[39m\"\u001b[39m\u001b[39m-T\u001b[39m\u001b[39m\"\u001b[39m, \u001b[39mstr\u001b[39m(T),\n\u001b[1;32m     23\u001b[0m     \u001b[39m\"\u001b[39m\u001b[39m-N\u001b[39m\u001b[39m\"\u001b[39m, \u001b[39mstr\u001b[39m(N)\n\u001b[1;32m     24\u001b[0m )\n\u001b[1;32m     25\u001b[0m popen \u001b[39m=\u001b[39m subprocess\u001b[39m.\u001b[39mPopen(args, stdout\u001b[39m=\u001b[39msubprocess\u001b[39m.\u001b[39mPIPE)\n\u001b[0;32m---> 26\u001b[0m popen\u001b[39m.\u001b[39;49mwait()\n",
      "File \u001b[0;32m~/anaconda3/envs/py310omp/lib/python3.10/subprocess.py:1207\u001b[0m, in \u001b[0;36mPopen.wait\u001b[0;34m(self, timeout)\u001b[0m\n\u001b[1;32m   1205\u001b[0m     endtime \u001b[39m=\u001b[39m _time() \u001b[39m+\u001b[39m timeout\n\u001b[1;32m   1206\u001b[0m \u001b[39mtry\u001b[39;00m:\n\u001b[0;32m-> 1207\u001b[0m     \u001b[39mreturn\u001b[39;00m \u001b[39mself\u001b[39;49m\u001b[39m.\u001b[39;49m_wait(timeout\u001b[39m=\u001b[39;49mtimeout)\n\u001b[1;32m   1208\u001b[0m \u001b[39mexcept\u001b[39;00m \u001b[39mKeyboardInterrupt\u001b[39;00m:\n\u001b[1;32m   1209\u001b[0m     \u001b[39m# https://bugs.python.org/issue25942\u001b[39;00m\n\u001b[1;32m   1210\u001b[0m     \u001b[39m# The first keyboard interrupt waits briefly for the child to\u001b[39;00m\n\u001b[1;32m   1211\u001b[0m     \u001b[39m# exit under the common assumption that it also received the ^C\u001b[39;00m\n\u001b[1;32m   1212\u001b[0m     \u001b[39m# generated SIGINT and will exit rapidly.\u001b[39;00m\n\u001b[1;32m   1213\u001b[0m     \u001b[39mif\u001b[39;00m timeout \u001b[39mis\u001b[39;00m \u001b[39mnot\u001b[39;00m \u001b[39mNone\u001b[39;00m:\n",
      "File \u001b[0;32m~/anaconda3/envs/py310omp/lib/python3.10/subprocess.py:1941\u001b[0m, in \u001b[0;36mPopen._wait\u001b[0;34m(self, timeout)\u001b[0m\n\u001b[1;32m   1939\u001b[0m \u001b[39mif\u001b[39;00m \u001b[39mself\u001b[39m\u001b[39m.\u001b[39mreturncode \u001b[39mis\u001b[39;00m \u001b[39mnot\u001b[39;00m \u001b[39mNone\u001b[39;00m:\n\u001b[1;32m   1940\u001b[0m     \u001b[39mbreak\u001b[39;00m  \u001b[39m# Another thread waited.\u001b[39;00m\n\u001b[0;32m-> 1941\u001b[0m (pid, sts) \u001b[39m=\u001b[39m \u001b[39mself\u001b[39;49m\u001b[39m.\u001b[39;49m_try_wait(\u001b[39m0\u001b[39;49m)\n\u001b[1;32m   1942\u001b[0m \u001b[39m# Check the pid and loop as waitpid has been known to\u001b[39;00m\n\u001b[1;32m   1943\u001b[0m \u001b[39m# return 0 even without WNOHANG in odd situations.\u001b[39;00m\n\u001b[1;32m   1944\u001b[0m \u001b[39m# http://bugs.python.org/issue14396.\u001b[39;00m\n\u001b[1;32m   1945\u001b[0m \u001b[39mif\u001b[39;00m pid \u001b[39m==\u001b[39m \u001b[39mself\u001b[39m\u001b[39m.\u001b[39mpid:\n",
      "File \u001b[0;32m~/anaconda3/envs/py310omp/lib/python3.10/subprocess.py:1899\u001b[0m, in \u001b[0;36mPopen._try_wait\u001b[0;34m(self, wait_flags)\u001b[0m\n\u001b[1;32m   1897\u001b[0m \u001b[39m\"\"\"All callers to this function MUST hold self._waitpid_lock.\"\"\"\u001b[39;00m\n\u001b[1;32m   1898\u001b[0m \u001b[39mtry\u001b[39;00m:\n\u001b[0;32m-> 1899\u001b[0m     (pid, sts) \u001b[39m=\u001b[39m os\u001b[39m.\u001b[39;49mwaitpid(\u001b[39mself\u001b[39;49m\u001b[39m.\u001b[39;49mpid, wait_flags)\n\u001b[1;32m   1900\u001b[0m \u001b[39mexcept\u001b[39;00m \u001b[39mChildProcessError\u001b[39;00m:\n\u001b[1;32m   1901\u001b[0m     \u001b[39m# This happens if SIGCLD is set to be ignored or waiting\u001b[39;00m\n\u001b[1;32m   1902\u001b[0m     \u001b[39m# for child processes has otherwise been disabled for our\u001b[39;00m\n\u001b[1;32m   1903\u001b[0m     \u001b[39m# process.  This child is dead, we can't get the status.\u001b[39;00m\n\u001b[1;32m   1904\u001b[0m     pid \u001b[39m=\u001b[39m \u001b[39mself\u001b[39m\u001b[39m.\u001b[39mpid\n",
      "\u001b[0;31mKeyboardInterrupt\u001b[0m: "
     ]
    }
   ],
   "source": [
    "import os\n",
    "import subprocess\n",
    "\n",
    "def delete_old_csv_file():\n",
    "    try:\n",
    "        os.remove(csv_result_file)\n",
    "    except OSError:\n",
    "        pass\n",
    "\n",
    "def create_csv_file():\n",
    "    print(f\"Creating NEW CSV file ({csv_result_file})\")\n",
    "    f = open(csv_result_file, \"w\")\n",
    "    f.write(\",\".join(csv_headers.keys()) + \"\\n\")\n",
    "    f.close()\n",
    "\n",
    "# execute the programs\n",
    "def run_program(\n",
    "    program_filepath: str, B: int, T: int, N: int\n",
    "):\n",
    "    args = (program_filepath, \n",
    "        \"-B\", str(B), \n",
    "        \"-T\", str(T),\n",
    "        \"-N\", str(N)\n",
    "    )\n",
    "    popen = subprocess.Popen(args, stdout=subprocess.PIPE)\n",
    "    popen.wait()\n",
    "\n",
    "print(\"Program executions\")\n",
    "def exec_instances():\n",
    "    for B in B_values:\n",
    "        for T in T_values:\n",
    "            for N in N_values:\n",
    "                print(f\" + Running programs (B: {B}, T: {T}, N: {N})\")\n",
    "                for _ in range(repeats):\n",
    "                    run_program(\"bin/tp_cuda_part_1_pi_multiblock_1_threadperblock\", B,T,N)\n",
    "                    run_program(\"bin/tp_cuda_part_1_pi_multithread\", B,T,N)\n",
    "                    run_program(\"bin/tp_cuda_part_1_pi_multithread_shared\", B,T,N)\n",
    "                    run_program(\"bin/tp_cuda_part_1_pi_multithread_full_reduction\", B,T,N)\n",
    "                    print(\"*\", end = '')\n",
    "                print()\n",
    "\n",
    "if EXEC:\n",
    "    delete_old_csv_file()\n",
    "    create_csv_file()\n",
    "    exec_instances()\n",
    "else: \n",
    "    print(f\"WARN: EXEC = {EXEC}. No C++ program execution.\")\n",
    "\n"
   ]
  },
  {
   "cell_type": "markdown",
   "metadata": {},
   "source": [
    "### Performance analysis"
   ]
  },
  {
   "cell_type": "code",
   "execution_count": null,
   "metadata": {},
   "outputs": [
    {
     "data": {
      "text/html": [
       "<div>\n",
       "<style scoped>\n",
       "    .dataframe tbody tr th:only-of-type {\n",
       "        vertical-align: middle;\n",
       "    }\n",
       "\n",
       "    .dataframe tbody tr th {\n",
       "        vertical-align: top;\n",
       "    }\n",
       "\n",
       "    .dataframe thead th {\n",
       "        text-align: right;\n",
       "    }\n",
       "</style>\n",
       "<table border=\"1\" class=\"dataframe\">\n",
       "  <thead>\n",
       "    <tr style=\"text-align: right;\">\n",
       "      <th></th>\n",
       "      <th>version</th>\n",
       "      <th>B</th>\n",
       "      <th>T</th>\n",
       "      <th>N</th>\n",
       "      <th>runtime</th>\n",
       "    </tr>\n",
       "  </thead>\n",
       "  <tbody>\n",
       "  </tbody>\n",
       "</table>\n",
       "</div>"
      ],
      "text/plain": [
       "Empty DataFrame\n",
       "Columns: [version, B, T, N, runtime]\n",
       "Index: []"
      ]
     },
     "metadata": {},
     "output_type": "display_data"
    },
    {
     "ename": "ValueError",
     "evalue": "Number of rows must be a positive integer, not 0",
     "output_type": "error",
     "traceback": [
      "\u001b[0;31m---------------------------------------------------------------------------\u001b[0m",
      "\u001b[0;31mValueError\u001b[0m                                Traceback (most recent call last)",
      "Cell \u001b[0;32mIn [5], line 63\u001b[0m\n\u001b[1;32m     57\u001b[0m     plt\u001b[39m.\u001b[39mshow()\n\u001b[1;32m     59\u001b[0m \u001b[39m#fig, ax = plt.subplots(figsize=(18,16))\u001b[39;00m\n\u001b[1;32m     60\u001b[0m \u001b[39m#fig.suptitle(f\"Compute Pi with CUDA optimized for different configurations\")\u001b[39;00m\n\u001b[1;32m     61\u001b[0m \n\u001b[1;32m     62\u001b[0m \u001b[39m# display legend for hue inside the subplots\u001b[39;00m\n\u001b[0;32m---> 63\u001b[0m g \u001b[39m=\u001b[39m sns\u001b[39m.\u001b[39;49mFacetGrid(\n\u001b[1;32m     64\u001b[0m     data\u001b[39m=\u001b[39;49mdf, \n\u001b[1;32m     65\u001b[0m     hue\u001b[39m=\u001b[39;49m\u001b[39m\"\u001b[39;49m\u001b[39mversion\u001b[39;49m\u001b[39m\"\u001b[39;49m,\n\u001b[1;32m     66\u001b[0m     col\u001b[39m=\u001b[39;49m\u001b[39m\"\u001b[39;49m\u001b[39mT\u001b[39;49m\u001b[39m\"\u001b[39;49m,\n\u001b[1;32m     67\u001b[0m     row\u001b[39m=\u001b[39;49m\u001b[39m\"\u001b[39;49m\u001b[39mB\u001b[39;49m\u001b[39m\"\u001b[39;49m,\n\u001b[1;32m     68\u001b[0m     palette\u001b[39m=\u001b[39;49mcolor_class, \n\u001b[1;32m     69\u001b[0m     height\u001b[39m=\u001b[39;49m\u001b[39m10\u001b[39;49m, \n\u001b[1;32m     70\u001b[0m     legend_out\u001b[39m=\u001b[39;49m\u001b[39mTrue\u001b[39;49;00m\n\u001b[1;32m     71\u001b[0m )\u001b[39m.\u001b[39mmap(sns\u001b[39m.\u001b[39mlineplot, \u001b[39m\"\u001b[39m\u001b[39mN\u001b[39m\u001b[39m\"\u001b[39m, \u001b[39m\"\u001b[39m\u001b[39mruntime\u001b[39m\u001b[39m\"\u001b[39m)\u001b[39m.\u001b[39mset(yscale\u001b[39m=\u001b[39m\u001b[39m\"\u001b[39m\u001b[39mlog\u001b[39m\u001b[39m\"\u001b[39m)\u001b[39m.\u001b[39mset(xlabel\u001b[39m=\u001b[39m\u001b[39m\"\u001b[39m\u001b[39mN\u001b[39m\u001b[39m\"\u001b[39m, ylabel\u001b[39m=\u001b[39m\u001b[39m\"\u001b[39m\u001b[39mruntime (s)\u001b[39m\u001b[39m\"\u001b[39m)\n\u001b[1;32m     74\u001b[0m \u001b[39m# add legend for x and y axis\u001b[39;00m\n\u001b[1;32m     75\u001b[0m plt\u001b[39m.\u001b[39mxlabel(\u001b[39m\"\u001b[39m\u001b[39mN\u001b[39m\u001b[39m\"\u001b[39m)\n",
      "File \u001b[0;32m~/anaconda3/envs/py310omp/lib/python3.10/site-packages/seaborn/axisgrid.py:456\u001b[0m, in \u001b[0;36mFacetGrid.__init__\u001b[0;34m(self, data, row, col, hue, col_wrap, sharex, sharey, height, aspect, palette, row_order, col_order, hue_order, hue_kws, dropna, legend_out, despine, margin_titles, xlim, ylim, subplot_kws, gridspec_kws)\u001b[0m\n\u001b[1;32m    449\u001b[0m \u001b[39mif\u001b[39;00m col_wrap \u001b[39mis\u001b[39;00m \u001b[39mNone\u001b[39;00m:\n\u001b[1;32m    451\u001b[0m     kwargs \u001b[39m=\u001b[39m \u001b[39mdict\u001b[39m(squeeze\u001b[39m=\u001b[39m\u001b[39mFalse\u001b[39;00m,\n\u001b[1;32m    452\u001b[0m                   sharex\u001b[39m=\u001b[39msharex, sharey\u001b[39m=\u001b[39msharey,\n\u001b[1;32m    453\u001b[0m                   subplot_kw\u001b[39m=\u001b[39msubplot_kws,\n\u001b[1;32m    454\u001b[0m                   gridspec_kw\u001b[39m=\u001b[39mgridspec_kws)\n\u001b[0;32m--> 456\u001b[0m     axes \u001b[39m=\u001b[39m fig\u001b[39m.\u001b[39;49msubplots(nrow, ncol, \u001b[39m*\u001b[39;49m\u001b[39m*\u001b[39;49mkwargs)\n\u001b[1;32m    458\u001b[0m     \u001b[39mif\u001b[39;00m col \u001b[39mis\u001b[39;00m \u001b[39mNone\u001b[39;00m \u001b[39mand\u001b[39;00m row \u001b[39mis\u001b[39;00m \u001b[39mNone\u001b[39;00m:\n\u001b[1;32m    459\u001b[0m         axes_dict \u001b[39m=\u001b[39m {}\n",
      "File \u001b[0;32m~/anaconda3/envs/py310omp/lib/python3.10/site-packages/matplotlib/figure.py:894\u001b[0m, in \u001b[0;36mFigureBase.subplots\u001b[0;34m(self, nrows, ncols, sharex, sharey, squeeze, width_ratios, height_ratios, subplot_kw, gridspec_kw)\u001b[0m\n\u001b[1;32m    890\u001b[0m         \u001b[39mraise\u001b[39;00m \u001b[39mValueError\u001b[39;00m(\u001b[39m\"\u001b[39m\u001b[39m'\u001b[39m\u001b[39mwidth_ratios\u001b[39m\u001b[39m'\u001b[39m\u001b[39m must not be defined both as \u001b[39m\u001b[39m\"\u001b[39m\n\u001b[1;32m    891\u001b[0m                          \u001b[39m\"\u001b[39m\u001b[39mparameter and as key in \u001b[39m\u001b[39m'\u001b[39m\u001b[39mgridspec_kw\u001b[39m\u001b[39m'\u001b[39m\u001b[39m\"\u001b[39m)\n\u001b[1;32m    892\u001b[0m     gridspec_kw[\u001b[39m'\u001b[39m\u001b[39mwidth_ratios\u001b[39m\u001b[39m'\u001b[39m] \u001b[39m=\u001b[39m width_ratios\n\u001b[0;32m--> 894\u001b[0m gs \u001b[39m=\u001b[39m \u001b[39mself\u001b[39;49m\u001b[39m.\u001b[39;49madd_gridspec(nrows, ncols, figure\u001b[39m=\u001b[39;49m\u001b[39mself\u001b[39;49m, \u001b[39m*\u001b[39;49m\u001b[39m*\u001b[39;49mgridspec_kw)\n\u001b[1;32m    895\u001b[0m axs \u001b[39m=\u001b[39m gs\u001b[39m.\u001b[39msubplots(sharex\u001b[39m=\u001b[39msharex, sharey\u001b[39m=\u001b[39msharey, squeeze\u001b[39m=\u001b[39msqueeze,\n\u001b[1;32m    896\u001b[0m                   subplot_kw\u001b[39m=\u001b[39msubplot_kw)\n\u001b[1;32m    897\u001b[0m \u001b[39mreturn\u001b[39;00m axs\n",
      "File \u001b[0;32m~/anaconda3/envs/py310omp/lib/python3.10/site-packages/matplotlib/figure.py:1516\u001b[0m, in \u001b[0;36mFigureBase.add_gridspec\u001b[0;34m(self, nrows, ncols, **kwargs)\u001b[0m\n\u001b[1;32m   1477\u001b[0m \u001b[39m\"\"\"\u001b[39;00m\n\u001b[1;32m   1478\u001b[0m \u001b[39mReturn a `.GridSpec` that has this figure as a parent.  This allows\u001b[39;00m\n\u001b[1;32m   1479\u001b[0m \u001b[39mcomplex layout of Axes in the figure.\u001b[39;00m\n\u001b[0;32m   (...)\u001b[0m\n\u001b[1;32m   1512\u001b[0m \n\u001b[1;32m   1513\u001b[0m \u001b[39m\"\"\"\u001b[39;00m\n\u001b[1;32m   1515\u001b[0m _ \u001b[39m=\u001b[39m kwargs\u001b[39m.\u001b[39mpop(\u001b[39m'\u001b[39m\u001b[39mfigure\u001b[39m\u001b[39m'\u001b[39m, \u001b[39mNone\u001b[39;00m)  \u001b[39m# pop in case user has added this...\u001b[39;00m\n\u001b[0;32m-> 1516\u001b[0m gs \u001b[39m=\u001b[39m GridSpec(nrows\u001b[39m=\u001b[39;49mnrows, ncols\u001b[39m=\u001b[39;49mncols, figure\u001b[39m=\u001b[39;49m\u001b[39mself\u001b[39;49m, \u001b[39m*\u001b[39;49m\u001b[39m*\u001b[39;49mkwargs)\n\u001b[1;32m   1517\u001b[0m \u001b[39mreturn\u001b[39;00m gs\n",
      "File \u001b[0;32m~/anaconda3/envs/py310omp/lib/python3.10/site-packages/matplotlib/gridspec.py:388\u001b[0m, in \u001b[0;36mGridSpec.__init__\u001b[0;34m(self, nrows, ncols, figure, left, bottom, right, top, wspace, hspace, width_ratios, height_ratios)\u001b[0m\n\u001b[1;32m    385\u001b[0m \u001b[39mself\u001b[39m\u001b[39m.\u001b[39mhspace \u001b[39m=\u001b[39m hspace\n\u001b[1;32m    386\u001b[0m \u001b[39mself\u001b[39m\u001b[39m.\u001b[39mfigure \u001b[39m=\u001b[39m figure\n\u001b[0;32m--> 388\u001b[0m \u001b[39msuper\u001b[39;49m()\u001b[39m.\u001b[39;49m\u001b[39m__init__\u001b[39;49m(nrows, ncols,\n\u001b[1;32m    389\u001b[0m                  width_ratios\u001b[39m=\u001b[39;49mwidth_ratios,\n\u001b[1;32m    390\u001b[0m                  height_ratios\u001b[39m=\u001b[39;49mheight_ratios)\n",
      "File \u001b[0;32m~/anaconda3/envs/py310omp/lib/python3.10/site-packages/matplotlib/gridspec.py:49\u001b[0m, in \u001b[0;36mGridSpecBase.__init__\u001b[0;34m(self, nrows, ncols, height_ratios, width_ratios)\u001b[0m\n\u001b[1;32m     34\u001b[0m \u001b[39m\"\"\"\u001b[39;00m\n\u001b[1;32m     35\u001b[0m \u001b[39mParameters\u001b[39;00m\n\u001b[1;32m     36\u001b[0m \u001b[39m----------\u001b[39;00m\n\u001b[0;32m   (...)\u001b[0m\n\u001b[1;32m     46\u001b[0m \u001b[39m    If not given, all rows will have the same height.\u001b[39;00m\n\u001b[1;32m     47\u001b[0m \u001b[39m\"\"\"\u001b[39;00m\n\u001b[1;32m     48\u001b[0m \u001b[39mif\u001b[39;00m \u001b[39mnot\u001b[39;00m \u001b[39misinstance\u001b[39m(nrows, Integral) \u001b[39mor\u001b[39;00m nrows \u001b[39m<\u001b[39m\u001b[39m=\u001b[39m \u001b[39m0\u001b[39m:\n\u001b[0;32m---> 49\u001b[0m     \u001b[39mraise\u001b[39;00m \u001b[39mValueError\u001b[39;00m(\n\u001b[1;32m     50\u001b[0m         \u001b[39mf\u001b[39m\u001b[39m\"\u001b[39m\u001b[39mNumber of rows must be a positive integer, not \u001b[39m\u001b[39m{\u001b[39;00mnrows\u001b[39m!r}\u001b[39;00m\u001b[39m\"\u001b[39m)\n\u001b[1;32m     51\u001b[0m \u001b[39mif\u001b[39;00m \u001b[39mnot\u001b[39;00m \u001b[39misinstance\u001b[39m(ncols, Integral) \u001b[39mor\u001b[39;00m ncols \u001b[39m<\u001b[39m\u001b[39m=\u001b[39m \u001b[39m0\u001b[39m:\n\u001b[1;32m     52\u001b[0m     \u001b[39mraise\u001b[39;00m \u001b[39mValueError\u001b[39;00m(\n\u001b[1;32m     53\u001b[0m         \u001b[39mf\u001b[39m\u001b[39m\"\u001b[39m\u001b[39mNumber of columns must be a positive integer, not \u001b[39m\u001b[39m{\u001b[39;00mncols\u001b[39m!r}\u001b[39;00m\u001b[39m\"\u001b[39m)\n",
      "\u001b[0;31mValueError\u001b[0m: Number of rows must be a positive integer, not 0"
     ]
    },
    {
     "data": {
      "text/plain": [
       "<Figure size 0x0 with 0 Axes>"
      ]
     },
     "metadata": {},
     "output_type": "display_data"
    }
   ],
   "source": [
    "# superposed big graph\n",
    "import matplotlib.pyplot as plt\n",
    "import numpy as np\n",
    "from IPython.display import display\n",
    "from numpy import genfromtxt\n",
    "import pandas as pd\n",
    "import seaborn as sns\n",
    "\n",
    "sns.set()\n",
    "\n",
    "\n",
    "df = pd.read_csv(\n",
    "    csv_result_file,\n",
    "    header=0, # line number of header\n",
    "    dtype=csv_headers\n",
    ")\n",
    "display(df.head(10))\n",
    "\n",
    "# filter out 0 runtime values\n",
    "df = df[df.runtime > 0]\n",
    "\n",
    "\n",
    "\n",
    "# display the graph\n",
    "def display_graph(N: int, df):\n",
    "    fig, ax = plt.subplots(figsize=(18,16))\n",
    "    fig.suptitle(f\"Superposed Graphs of Chained Matrix multiplication for different precisions, with square matrices of size {N}x{N}\")\n",
    "\n",
    "    for i in range(0, len(color_class.keys())):\n",
    "        # print version graph data\n",
    "        graph_version = list(color_class.keys())[i]\n",
    "        df_plot_0 = df[df['version'] == graph_version]\n",
    "\n",
    "        g0 = sns.lineplot(\n",
    "            ax=ax,\n",
    "            data=df_plot_0, \n",
    "            x=\"N\",\n",
    "            y=\"runtime\", \n",
    "            hue=\"version\",\n",
    "            palette=color_class,\n",
    "            style=\"version\",\n",
    "        )\n",
    "        g0.set(yscale=\"log\")\n",
    "        g0.set(xlabel=\"Matrix dimensions N=M=P\", ylabel=\"runtime (s)\")\n",
    "        g00 = sns.scatterplot(\n",
    "            ax=ax,\n",
    "            data=df_plot_0, \n",
    "            x=\"N\",\n",
    "            y=\"runtime\", \n",
    "            hue=\"version\",\n",
    "            palette=color_class,\n",
    "            legend=False,\n",
    "        )\n",
    "        g00.set(yscale=\"log\")\n",
    "\n",
    "    plt.legend()\n",
    "    plt.show()\n",
    "\n",
    "#fig, ax = plt.subplots(figsize=(18,16))\n",
    "#fig.suptitle(f\"Compute Pi with CUDA optimized for different configurations\")\n",
    "\n",
    "# display legend for hue inside the subplots\n",
    "g = sns.FacetGrid(\n",
    "    data=df, \n",
    "    hue=\"version\",\n",
    "    col=\"T\",\n",
    "    row=\"B\",\n",
    "    palette=color_class, \n",
    "    height=10, \n",
    "    legend_out=True\n",
    ").map(sns.lineplot, \"N\", \"runtime\").set(yscale=\"log\").set(xlabel=\"N\", ylabel=\"runtime (s)\")\n",
    "\n",
    "\n",
    "# add legend for x and y axis\n",
    "plt.xlabel(\"N\")\n",
    "plt.ylabel(\"runtime (s)\")\n",
    "\n",
    "# add graph title\n",
    "g.figure.suptitle(f\"Compute Pi with CUDA optimized for different configurations\")\n",
    "\n",
    "# display legend for hue outside the subplots above the graph\n",
    "plt.legend(\n",
    "    title=\"version\",\n",
    "    loc='upper center',\n",
    "    bbox_to_anchor=(0.5, -0.05),\n",
    "    fancybox=True,\n",
    "    shadow=True,\n",
    "    ncol=5\n",
    ")\n"
   ]
  },
  {
   "cell_type": "markdown",
   "metadata": {},
   "source": [
    "### Discussion"
   ]
  }
 ],
 "metadata": {
  "kernelspec": {
   "display_name": "Python 3.10.6 ('py310omp')",
   "language": "python",
   "name": "python3"
  },
  "language_info": {
   "codemirror_mode": {
    "name": "ipython",
    "version": 3
   },
   "file_extension": ".py",
   "mimetype": "text/x-python",
   "name": "python",
   "nbconvert_exporter": "python",
   "pygments_lexer": "ipython3",
   "version": "3.10.6"
  },
  "orig_nbformat": 4,
  "vscode": {
   "interpreter": {
    "hash": "326e768ba90daaeab003b865bf168ec19ff1d317a5669a32ab13e56afd7e3f98"
   }
  }
 },
 "nbformat": 4,
 "nbformat_minor": 2
}
