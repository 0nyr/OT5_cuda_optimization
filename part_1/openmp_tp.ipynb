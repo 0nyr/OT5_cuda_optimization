{
 "cells": [
  {
   "cell_type": "markdown",
   "metadata": {},
   "source": [
    "# TP OpenMP - October 2022\n",
    "\n",
    "Florian Rascoussier\n",
    "\n",
    "Bastien Barbe\n",
    "\n",
    "Ce notebook constitue une étude comparative des méthodes de parallélisation CUDA sur GPU pour différentes applications.\n",
    "\n",
    "## Part 1 : Pi\n",
    "\n",
    "Ce programme calcule la valeur de pi à la précision renseignée par l'utilisateur.\n",
    "\n",
    "### Compilation"
   ]
  },
  {
   "cell_type": "code",
   "execution_count": 1,
   "metadata": {},
   "outputs": [],
   "source": [
    "# script params\n",
    "EXEC: bool = True"
   ]
  },
  {
   "cell_type": "code",
   "execution_count": 2,
   "metadata": {},
   "outputs": [],
   "source": [
    "# create /bin if it does not exist\n",
    "!mkdir -p bin\n",
    "\n",
    "# compile the programs\n",
    "!nvcc -o bin/tp_cuda_part_1_pi_multiblock_1_threadperblock tp_cuda_part_1_pi_multiblock_1_threadperblock.cu -O3\n",
    "!nvcc -o bin/tp_cuda_part_1_pi_multithread tp_cuda_part_1_pi_multithread.cu -O3\n",
    "!nvcc -o bin/tp_cuda_part_1_pi_multithread_shared tp_cuda_part_1_pi_multithread_shared.cu -O3\n",
    "!nvcc -o bin/tp_cuda_part_1_pi_multithread_full_reduction tp_cuda_part_1_pi_multithread_full_reduction.cu -O3 -g\n",
    "\n",
    "# cuda-memcheck ./bin/tp_cuda_part_1_pi_basic -T 1000 -N 100000"
   ]
  },
  {
   "cell_type": "markdown",
   "metadata": {},
   "source": [
    "### Performance evaluation"
   ]
  },
  {
   "cell_type": "code",
   "execution_count": 18,
   "metadata": {},
   "outputs": [],
   "source": [
    "# global vars\n",
    "csv_result_file = \"stats.csv\"\n",
    "csv_headers = {\n",
    "    'version': str,\n",
    "    'B': int,\n",
    "    'T': int,\n",
    "    'N': int,\n",
    "    'runtime' : float\n",
    "}\n",
    "\n",
    "B_values = [1, 32, 64, 128, 256]\n",
    "N_values = [100, 1000, 10000, 100000, 1000000];\n",
    "T_values = [1, 32, 64, 128, 256]\n",
    "\n",
    "# heatmap for N, B, T\n",
    "\n",
    "color_class = {\n",
    "    \"onethreadperblock\": \"red\",\n",
    "    \"multithread\": \"orange\",\n",
    "    \"multithread_shared\": \"blue\",\n",
    "    \"multithread_reduction\": \"green\",\n",
    "}\n",
    "\n",
    "repeats = 10"
   ]
  },
  {
   "cell_type": "code",
   "execution_count": 19,
   "metadata": {},
   "outputs": [
    {
     "name": "stdout",
     "output_type": "stream",
     "text": [
      "Program executions\n",
      "Creating NEW CSV file (stats.csv)\n",
      " + Running programs (B: 1, T: 1, N: 100)\n",
      "**********\n",
      " + Running programs (B: 1, T: 1, N: 1000)\n",
      "**********\n",
      " + Running programs (B: 1, T: 1, N: 10000)\n",
      "**********\n",
      " + Running programs (B: 1, T: 1, N: 100000)\n",
      "**********\n",
      " + Running programs (B: 1, T: 1, N: 1000000)\n",
      "******"
     ]
    }
   ],
   "source": [
    "import os\n",
    "import subprocess\n",
    "\n",
    "def delete_old_csv_file():\n",
    "    try:\n",
    "        os.remove(csv_result_file)\n",
    "    except OSError:\n",
    "        pass\n",
    "\n",
    "def create_csv_file():\n",
    "    print(f\"Creating NEW CSV file ({csv_result_file})\")\n",
    "    f = open(csv_result_file, \"w\")\n",
    "    f.write(\",\".join(csv_headers.keys()) + \"\\n\")\n",
    "    f.close()\n",
    "\n",
    "# execute the programs\n",
    "def run_program(\n",
    "    program_filepath: str, B: int, T: int, N: int\n",
    "):\n",
    "    args = (program_filepath, \n",
    "        \"-B\", str(B), \n",
    "        \"-T\", str(T),\n",
    "        \"-N\", str(N)\n",
    "    )\n",
    "    popen = subprocess.Popen(args, stdout=subprocess.PIPE)\n",
    "    popen.wait()\n",
    "\n",
    "print(\"Program executions\")\n",
    "def exec_instances():\n",
    "    for B in B_values:\n",
    "        for T in T_values:\n",
    "            for N in N_values:\n",
    "                print(f\" + Running programs (B: {B}, T: {T}, N: {N})\")\n",
    "                for _ in range(repeats):\n",
    "                    run_program(\"bin/tp_cuda_part_1_pi_multiblock_1_threadperblock\", B,T,N)\n",
    "                    run_program(\"bin/tp_cuda_part_1_pi_multithread\", B,T,N)\n",
    "                    run_program(\"bin/tp_cuda_part_1_pi_multithread_shared\", B,T,N)\n",
    "                    run_program(\"bin/tp_cuda_part_1_pi_multithread_full_reduction\", B,T,N)\n",
    "                    print(\"*\", end = '')\n",
    "                print()\n",
    "\n",
    "if EXEC:\n",
    "    delete_old_csv_file()\n",
    "    create_csv_file()\n",
    "    exec_instances()\n",
    "else: \n",
    "    print(f\"WARN: EXEC = {EXEC}. No C++ program execution.\")\n",
    "\n"
   ]
  },
  {
   "cell_type": "markdown",
   "metadata": {},
   "source": [
    "### Performance analysis"
   ]
  },
  {
   "cell_type": "code",
   "execution_count": 5,
   "metadata": {},
   "outputs": [
    {
     "ename": "ModuleNotFoundError",
     "evalue": "No module named 'seaborn'",
     "output_type": "error",
     "traceback": [
      "\u001b[0;31m---------------------------------------------------------------------------\u001b[0m",
      "\u001b[0;31mModuleNotFoundError\u001b[0m                       Traceback (most recent call last)",
      "\u001b[0;32m<ipython-input-5-ed1022915205>\u001b[0m in \u001b[0;36m<module>\u001b[0;34m()\u001b[0m\n\u001b[1;32m      5\u001b[0m \u001b[0;32mfrom\u001b[0m \u001b[0mnumpy\u001b[0m \u001b[0;32mimport\u001b[0m \u001b[0mgenfromtxt\u001b[0m\u001b[0;34m\u001b[0m\u001b[0;34m\u001b[0m\u001b[0m\n\u001b[1;32m      6\u001b[0m \u001b[0;32mimport\u001b[0m \u001b[0mpandas\u001b[0m \u001b[0;32mas\u001b[0m \u001b[0mpd\u001b[0m\u001b[0;34m\u001b[0m\u001b[0;34m\u001b[0m\u001b[0m\n\u001b[0;32m----> 7\u001b[0;31m \u001b[0;32mimport\u001b[0m \u001b[0mseaborn\u001b[0m \u001b[0;32mas\u001b[0m \u001b[0msns\u001b[0m\u001b[0;34m\u001b[0m\u001b[0;34m\u001b[0m\u001b[0m\n\u001b[0m\u001b[1;32m      8\u001b[0m \u001b[0;34m\u001b[0m\u001b[0m\n\u001b[1;32m      9\u001b[0m \u001b[0;32mimport\u001b[0m \u001b[0mwarnings\u001b[0m\u001b[0;34m\u001b[0m\u001b[0;34m\u001b[0m\u001b[0m\n",
      "\u001b[0;31mModuleNotFoundError\u001b[0m: No module named 'seaborn'"
     ]
    }
   ],
   "source": [
    "# superposed big graph\n",
    "import matplotlib.pyplot as plt\n",
    "import numpy as np\n",
    "from IPython.display import display\n",
    "from numpy import genfromtxt\n",
    "import pandas as pd\n",
    "import seaborn as sns\n",
    "\n",
    "import warnings\n",
    "warnings.filterwarnings('ignore')\n",
    "\n",
    "sns.set()\n",
    "\n",
    "\n",
    "df = pd.read_csv(\n",
    "    csv_result_file,\n",
    "    header=0, # line number of header\n",
    "    dtype=csv_headers\n",
    ")\n",
    "display(df.head(10))\n",
    "\n",
    "# filter out 0 runtime values\n",
    "df = df[df.runtime > 0]\n",
    "\n",
    "\n",
    "\n",
    "# display the graph\n",
    "def display_graph(N: int, df):\n",
    "    fig, ax = plt.subplots(figsize=(18,16))\n",
    "    fig.suptitle(f\"Superposed Graphs of Chained Matrix multiplication for different precisions, with square matrices of size {N}x{N}\")\n",
    "\n",
    "    for i in range(0, len(color_class.keys())):\n",
    "        # print version graph data\n",
    "        graph_version = list(color_class.keys())[i]\n",
    "        df_plot_0 = df[df['version'] == graph_version]\n",
    "\n",
    "        g0 = sns.lineplot(\n",
    "            ax=ax,\n",
    "            data=df_plot_0, \n",
    "            x=\"N\",\n",
    "            y=\"runtime\", \n",
    "            hue=\"version\",\n",
    "            palette=color_class,\n",
    "            style=\"version\",\n",
    "        )\n",
    "        g0.set(yscale=\"log\")\n",
    "        g0.set(xlabel=\"Matrix dimensions N=M=P\", ylabel=\"runtime (s)\")\n",
    "        g00 = sns.scatterplot(\n",
    "            ax=ax,\n",
    "            data=df_plot_0, \n",
    "            x=\"N\",\n",
    "            y=\"runtime\", \n",
    "            hue=\"version\",\n",
    "            palette=color_class,\n",
    "            legend=False,\n",
    "        )\n",
    "        g00.set(yscale=\"log\")\n",
    "\n",
    "    plt.legend()\n",
    "    plt.show()\n",
    "\n",
    "\n",
    "\n",
    "# display graphs for D = 100\n",
    "df_100 = df[df.D == 100]\n",
    "df_100 = df_100.sort_values(by=['N'])\n",
    "df_100 = df_100.reset_index(drop=True)\n",
    "df_100 = df_100.drop(columns=['D'])\n",
    "display_graph(100, df_100)\n",
    "\n",
    "# display graphs for D = 1000\n",
    "df_1000 = df[df.D == 1000]\n",
    "df_1000 = df_1000.sort_values(by=['N'])\n",
    "df_1000 = df_1000.reset_index(drop=True)\n",
    "df_1000 = df_1000.drop(columns=['D'])\n",
    "display_graph(1000, df_1000)\n"
   ]
  },
  {
   "cell_type": "markdown",
   "metadata": {},
   "source": [
    "### Discussion"
   ]
  }
 ],
 "metadata": {
  "kernelspec": {
   "display_name": "Python 3.7.3 64-bit",
   "language": "python",
   "name": "python3"
  },
  "language_info": {
   "codemirror_mode": {
    "name": "ipython",
    "version": 3
   },
   "file_extension": ".py",
   "mimetype": "text/x-python",
   "name": "python",
   "nbconvert_exporter": "python",
   "pygments_lexer": "ipython3",
   "version": "3.7.3"
  },
  "orig_nbformat": 4,
  "vscode": {
   "interpreter": {
    "hash": "916dbcbb3f70747c44a77c7bcd40155683ae19c65e1c03b4aa3499c5328201f1"
   }
  }
 },
 "nbformat": 4,
 "nbformat_minor": 2
}
